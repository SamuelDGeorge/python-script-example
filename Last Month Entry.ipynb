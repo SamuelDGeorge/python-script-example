{
 "cells": [
  {
   "cell_type": "markdown",
   "id": "e1f515ae",
   "metadata": {},
   "source": [
    "# Import "
   ]
  },
  {
   "cell_type": "code",
   "execution_count": 1,
   "id": "cab52a65",
   "metadata": {},
   "outputs": [],
   "source": [
    "import pandas as pd\n",
    "from datetime import datetime"
   ]
  },
  {
   "cell_type": "code",
   "execution_count": 2,
   "id": "42cafdb8",
   "metadata": {},
   "outputs": [],
   "source": [
    "threshold_string = \"2023-03-06 00:00:00\"\n",
    "date_to_threshold=datetime.strptime(threshold_string, \"%Y-%m-%d %H:%M:%S\")"
   ]
  },
  {
   "cell_type": "markdown",
   "id": "d63c145f",
   "metadata": {},
   "source": [
    "# Load Data"
   ]
  },
  {
   "cell_type": "code",
   "execution_count": 3,
   "id": "0698dd03",
   "metadata": {},
   "outputs": [],
   "source": [
    "#isolate month\n",
    "def monthStrip(full_datetime):\n",
    "    return datetime.strptime(datetime.strftime(full_datetime, \"%Y-%m\"), \"%Y-%m\")"
   ]
  },
  {
   "cell_type": "code",
   "execution_count": 4,
   "id": "79bc38fb",
   "metadata": {},
   "outputs": [
    {
     "data": {
      "text/html": [
       "<div>\n",
       "<style scoped>\n",
       "    .dataframe tbody tr th:only-of-type {\n",
       "        vertical-align: middle;\n",
       "    }\n",
       "\n",
       "    .dataframe tbody tr th {\n",
       "        vertical-align: top;\n",
       "    }\n",
       "\n",
       "    .dataframe thead th {\n",
       "        text-align: right;\n",
       "    }\n",
       "</style>\n",
       "<table border=\"1\" class=\"dataframe\">\n",
       "  <thead>\n",
       "    <tr style=\"text-align: right;\">\n",
       "      <th></th>\n",
       "      <th>Crop Type</th>\n",
       "      <th>Produce</th>\n",
       "      <th>Portfolio</th>\n",
       "      <th>Total Cost</th>\n",
       "      <th>Created_Date</th>\n",
       "      <th>Created_Month</th>\n",
       "    </tr>\n",
       "  </thead>\n",
       "  <tbody>\n",
       "    <tr>\n",
       "      <th>0</th>\n",
       "      <td>Fruit</td>\n",
       "      <td>Apple</td>\n",
       "      <td>AA</td>\n",
       "      <td>100</td>\n",
       "      <td>2023-01-17 10:41:57</td>\n",
       "      <td>2023-01-01</td>\n",
       "    </tr>\n",
       "    <tr>\n",
       "      <th>1</th>\n",
       "      <td>Fruit</td>\n",
       "      <td>Apple</td>\n",
       "      <td>BB</td>\n",
       "      <td>70</td>\n",
       "      <td>2023-01-23 10:41:57</td>\n",
       "      <td>2023-01-01</td>\n",
       "    </tr>\n",
       "    <tr>\n",
       "      <th>2</th>\n",
       "      <td>Vegetable</td>\n",
       "      <td>Onion</td>\n",
       "      <td>CC</td>\n",
       "      <td>13</td>\n",
       "      <td>2023-01-14 03:14:57</td>\n",
       "      <td>2023-01-01</td>\n",
       "    </tr>\n",
       "    <tr>\n",
       "      <th>3</th>\n",
       "      <td>Vegetable</td>\n",
       "      <td>Onion</td>\n",
       "      <td>CC</td>\n",
       "      <td>57</td>\n",
       "      <td>2023-01-18 00:00:00</td>\n",
       "      <td>2023-01-01</td>\n",
       "    </tr>\n",
       "    <tr>\n",
       "      <th>4</th>\n",
       "      <td>Vegetable</td>\n",
       "      <td>Onion</td>\n",
       "      <td>DD</td>\n",
       "      <td>150</td>\n",
       "      <td>2023-01-10 17:45:23</td>\n",
       "      <td>2023-01-01</td>\n",
       "    </tr>\n",
       "    <tr>\n",
       "      <th>5</th>\n",
       "      <td>Fruit</td>\n",
       "      <td>Apple</td>\n",
       "      <td>AA</td>\n",
       "      <td>250</td>\n",
       "      <td>2023-02-03 12:10:07</td>\n",
       "      <td>2023-02-01</td>\n",
       "    </tr>\n",
       "    <tr>\n",
       "      <th>6</th>\n",
       "      <td>Fruit</td>\n",
       "      <td>Apple</td>\n",
       "      <td>BB</td>\n",
       "      <td>30</td>\n",
       "      <td>2023-02-23 14:30:10</td>\n",
       "      <td>2023-02-01</td>\n",
       "    </tr>\n",
       "  </tbody>\n",
       "</table>\n",
       "</div>"
      ],
      "text/plain": [
       "   Crop Type Produce Portfolio  Total Cost        Created_Date Created_Month\n",
       "0      Fruit   Apple        AA         100 2023-01-17 10:41:57    2023-01-01\n",
       "1      Fruit   Apple        BB          70 2023-01-23 10:41:57    2023-01-01\n",
       "2  Vegetable   Onion        CC          13 2023-01-14 03:14:57    2023-01-01\n",
       "3  Vegetable   Onion        CC          57 2023-01-18 00:00:00    2023-01-01\n",
       "4  Vegetable   Onion        DD         150 2023-01-10 17:45:23    2023-01-01\n",
       "5      Fruit   Apple        AA         250 2023-02-03 12:10:07    2023-02-01\n",
       "6      Fruit   Apple        BB          30 2023-02-23 14:30:10    2023-02-01"
      ]
     },
     "execution_count": 4,
     "metadata": {},
     "output_type": "execute_result"
    }
   ],
   "source": [
    "#create and generate month\n",
    "practice_data = pd.read_excel(\"Fruit_Dataset.xlsx\")\n",
    "practice_data['Created_Month'] = [monthStrip(x) for x in practice_data['Created_Date']]\n",
    "\n",
    "#apply threshold\n",
    "practice_data = practice_data.loc[practice_data['Created_Date'] < date_to_threshold]\n",
    "practice_data"
   ]
  },
  {
   "cell_type": "markdown",
   "id": "45419ece",
   "metadata": {},
   "source": [
    "# Get Last Entry for Each Month"
   ]
  },
  {
   "cell_type": "code",
   "execution_count": 5,
   "id": "7dfabc3d",
   "metadata": {},
   "outputs": [],
   "source": [
    "#sort by date\n",
    "group_data = practice_data.sort_values('Created_Date').copy()\n",
    "\n",
    "#Group By All But Cost and Created Date\n",
    "to_group = list(group_data.columns)\n",
    "to_group.remove('Created_Date')\n",
    "to_group.remove('Total Cost')\n",
    "\n",
    "#keep last row after grouping\n",
    "last_of_months = group_data.groupby(to_group,as_index=False).last()"
   ]
  },
  {
   "cell_type": "code",
   "execution_count": 6,
   "id": "7dafd609",
   "metadata": {},
   "outputs": [
    {
     "data": {
      "text/html": [
       "<div>\n",
       "<style scoped>\n",
       "    .dataframe tbody tr th:only-of-type {\n",
       "        vertical-align: middle;\n",
       "    }\n",
       "\n",
       "    .dataframe tbody tr th {\n",
       "        vertical-align: top;\n",
       "    }\n",
       "\n",
       "    .dataframe thead th {\n",
       "        text-align: right;\n",
       "    }\n",
       "</style>\n",
       "<table border=\"1\" class=\"dataframe\">\n",
       "  <thead>\n",
       "    <tr style=\"text-align: right;\">\n",
       "      <th></th>\n",
       "      <th>Crop Type</th>\n",
       "      <th>Produce</th>\n",
       "      <th>Portfolio</th>\n",
       "      <th>Created_Month</th>\n",
       "      <th>Total Cost</th>\n",
       "      <th>Created_Date</th>\n",
       "    </tr>\n",
       "  </thead>\n",
       "  <tbody>\n",
       "    <tr>\n",
       "      <th>0</th>\n",
       "      <td>Fruit</td>\n",
       "      <td>Apple</td>\n",
       "      <td>AA</td>\n",
       "      <td>2023-01-01</td>\n",
       "      <td>100</td>\n",
       "      <td>2023-01-17 10:41:57</td>\n",
       "    </tr>\n",
       "    <tr>\n",
       "      <th>1</th>\n",
       "      <td>Fruit</td>\n",
       "      <td>Apple</td>\n",
       "      <td>AA</td>\n",
       "      <td>2023-02-01</td>\n",
       "      <td>250</td>\n",
       "      <td>2023-02-03 12:10:07</td>\n",
       "    </tr>\n",
       "    <tr>\n",
       "      <th>2</th>\n",
       "      <td>Fruit</td>\n",
       "      <td>Apple</td>\n",
       "      <td>BB</td>\n",
       "      <td>2023-01-01</td>\n",
       "      <td>70</td>\n",
       "      <td>2023-01-23 10:41:57</td>\n",
       "    </tr>\n",
       "    <tr>\n",
       "      <th>3</th>\n",
       "      <td>Fruit</td>\n",
       "      <td>Apple</td>\n",
       "      <td>BB</td>\n",
       "      <td>2023-02-01</td>\n",
       "      <td>30</td>\n",
       "      <td>2023-02-23 14:30:10</td>\n",
       "    </tr>\n",
       "    <tr>\n",
       "      <th>4</th>\n",
       "      <td>Vegetable</td>\n",
       "      <td>Onion</td>\n",
       "      <td>CC</td>\n",
       "      <td>2023-01-01</td>\n",
       "      <td>57</td>\n",
       "      <td>2023-01-18 00:00:00</td>\n",
       "    </tr>\n",
       "    <tr>\n",
       "      <th>5</th>\n",
       "      <td>Vegetable</td>\n",
       "      <td>Onion</td>\n",
       "      <td>DD</td>\n",
       "      <td>2023-01-01</td>\n",
       "      <td>150</td>\n",
       "      <td>2023-01-10 17:45:23</td>\n",
       "    </tr>\n",
       "  </tbody>\n",
       "</table>\n",
       "</div>"
      ],
      "text/plain": [
       "   Crop Type Produce Portfolio Created_Month  Total Cost        Created_Date\n",
       "0      Fruit   Apple        AA    2023-01-01         100 2023-01-17 10:41:57\n",
       "1      Fruit   Apple        AA    2023-02-01         250 2023-02-03 12:10:07\n",
       "2      Fruit   Apple        BB    2023-01-01          70 2023-01-23 10:41:57\n",
       "3      Fruit   Apple        BB    2023-02-01          30 2023-02-23 14:30:10\n",
       "4  Vegetable   Onion        CC    2023-01-01          57 2023-01-18 00:00:00\n",
       "5  Vegetable   Onion        DD    2023-01-01         150 2023-01-10 17:45:23"
      ]
     },
     "execution_count": 6,
     "metadata": {},
     "output_type": "execute_result"
    }
   ],
   "source": [
    "last_of_months"
   ]
  }
 ],
 "metadata": {
  "kernelspec": {
   "display_name": "Python 3 (ipykernel)",
   "language": "python",
   "name": "python3"
  },
  "language_info": {
   "codemirror_mode": {
    "name": "ipython",
    "version": 3
   },
   "file_extension": ".py",
   "mimetype": "text/x-python",
   "name": "python",
   "nbconvert_exporter": "python",
   "pygments_lexer": "ipython3",
   "version": "3.10.6"
  }
 },
 "nbformat": 4,
 "nbformat_minor": 5
}
