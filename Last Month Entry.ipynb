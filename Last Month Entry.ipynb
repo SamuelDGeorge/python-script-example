{
 "cells": [
  {
   "cell_type": "markdown",
   "id": "e1f515ae",
   "metadata": {},
   "source": [
    "# Import "
   ]
  },
  {
   "cell_type": "code",
   "execution_count": null,
   "id": "cab52a65",
   "metadata": {},
   "outputs": [],
   "source": [
    "import pandas as pd\n",
    "from datetime import datetime"
   ]
  },
  {
   "cell_type": "code",
   "execution_count": null,
   "id": "42cafdb8",
   "metadata": {},
   "outputs": [],
   "source": [
    "threshold_string = \"2023-03-06 00:00:00.00\"\n",
    "date_to_threshold=datetime.strptime(threshold_string, \"%Y-%m-%d %H:%M:%S.%f\")\n",
    "date_to_threshold"
   ]
  },
  {
   "cell_type": "code",
   "execution_count": null,
   "id": "f37c972e",
   "metadata": {},
   "outputs": [],
   "source": [
    "#what tiem it is right now\n",
    "datetime.now()"
   ]
  },
  {
   "cell_type": "markdown",
   "id": "d63c145f",
   "metadata": {},
   "source": [
    "# Load Data"
   ]
  },
  {
   "cell_type": "code",
   "execution_count": null,
   "id": "0698dd03",
   "metadata": {},
   "outputs": [],
   "source": [
    "#isolate month\n",
    "def monthStrip(full_datetime):\n",
    "    year_and_month_string = datetime.strftime(full_datetime, \"%Y-%m\")\n",
    "    return datetime.strptime(year_and_month_string, \"%Y-%m\")"
   ]
  },
  {
   "cell_type": "code",
   "execution_count": null,
   "id": "06e372c2",
   "metadata": {},
   "outputs": [],
   "source": [
    "monthStrip(date_to_threshold)"
   ]
  },
  {
   "cell_type": "code",
   "execution_count": null,
   "id": "79bc38fb",
   "metadata": {},
   "outputs": [],
   "source": [
    "#create and generate month\n",
    "practice_data = pd.read_excel(\"Fruit_Dataset.xlsx\")\n",
    "practice_data['Created_Month'] = [monthStrip(x) for x in practice_data['Created_Date']]\n",
    "\n",
    "#apply threshold\n",
    "practice_data = practice_data.loc[practice_data['Created_Date'] < date_to_threshold]\n",
    "practice_data"
   ]
  },
  {
   "cell_type": "markdown",
   "id": "45419ece",
   "metadata": {},
   "source": [
    "# Get Last Entry for Each Month"
   ]
  },
  {
   "cell_type": "code",
   "execution_count": null,
   "id": "7dfabc3d",
   "metadata": {},
   "outputs": [],
   "source": [
    "#sort by date\n",
    "group_data = practice_data.sort_values('Created_Date').copy()\n",
    "\n",
    "#Group By All But Cost and Created Date\n",
    "to_group = list(group_data.columns)\n",
    "to_group.remove('Created_Date')\n",
    "to_group.remove('Total Cost')\n",
    "\n",
    "#keep last row after grouping\n",
    "last_of_months = group_data.groupby(to_group,as_index=False).last()"
   ]
  },
  {
   "cell_type": "code",
   "execution_count": null,
   "id": "7dafd609",
   "metadata": {},
   "outputs": [],
   "source": [
    "last_of_months"
   ]
  }
 ],
 "metadata": {
  "kernelspec": {
   "display_name": "Python 3 (ipykernel)",
   "language": "python",
   "name": "python3"
  },
  "language_info": {
   "codemirror_mode": {
    "name": "ipython",
    "version": 3
   },
   "file_extension": ".py",
   "mimetype": "text/x-python",
   "name": "python",
   "nbconvert_exporter": "python",
   "pygments_lexer": "ipython3",
   "version": "3.11.1"
  }
 },
 "nbformat": 4,
 "nbformat_minor": 5
}
