{
 "cells": [
  {
   "cell_type": "markdown",
   "id": "e1f515ae",
   "metadata": {},
   "source": [
    "# Import Stuff\n",
    "\n",
    "## Smaller Font \n",
    "\n",
    "### Event Smaller Font \n",
    "\n",
    "#### Smallest Font \n",
    "\n",
    "This is the first step where I import all my stuff. "
   ]
  },
  {
   "cell_type": "code",
   "execution_count": null,
   "id": "cab52a65",
   "metadata": {},
   "outputs": [],
   "source": [
    "import pandas as pd\n",
    "from datetime import datetime"
   ]
  },
  {
   "cell_type": "markdown",
   "id": "0b4c93c1",
   "metadata": {},
   "source": [
    "# Helpful Tips"
   ]
  },
  {
   "cell_type": "code",
   "execution_count": null,
   "id": "afdbbf45",
   "metadata": {},
   "outputs": [],
   "source": [
    "# using a tuple \n",
    "tuple_val = (1,2,3)\n",
    "\n",
    "# pull it back apart \n",
    "f,s,t = tuple_val\n",
    "print(f,s,t)"
   ]
  },
  {
   "cell_type": "code",
   "execution_count": null,
   "id": "e9c1feca",
   "metadata": {},
   "outputs": [],
   "source": [
    "# create a basic list \n",
    "list_items = list()\n",
    "another_way_to_make_a_list = []\n",
    "\n",
    "#adding to a list \n",
    "another_way_to_make_a_list.append(1)\n",
    "another_way_to_make_a_list.append(2)\n",
    "another_way_to_make_a_list.append(3)\n",
    "another_way_to_make_a_list.append(1)\n",
    "\n",
    "another_way_to_make_a_list"
   ]
  },
  {
   "cell_type": "code",
   "execution_count": null,
   "id": "6353360c",
   "metadata": {},
   "outputs": [],
   "source": [
    "#creating a set \n",
    "set_items = set()\n",
    "\n",
    "# adding values to it\n",
    "set_items.add(1)\n",
    "set_items.add(2)\n",
    "set_items.add(3)\n",
    "set_items.add(1)\n",
    "\n",
    "set_items"
   ]
  },
  {
   "cell_type": "code",
   "execution_count": null,
   "id": "1b9f4859",
   "metadata": {},
   "outputs": [],
   "source": [
    "# create a dictionary \n",
    "dictionary_item = dict()\n",
    "another_way_to_make_a_dict = {}\n",
    "\n",
    "# add a new \n",
    "dictionary_item[123] = \"Charles\"\n",
    "dictionary_item[456] = \"Sam\"\n",
    "dictionary_item[123] = \"David\"\n",
    "dictionary_item[\"dog\"] = \"Athena\"\n",
    "dictionary_item[\"dog\"] = \"Boomer\"\n",
    "dictionary_item[\"a list\"] = [1,2,3]\n",
    "\n",
    "dictionary_item"
   ]
  },
  {
   "cell_type": "code",
   "execution_count": null,
   "id": "3430e512",
   "metadata": {},
   "outputs": [],
   "source": [
    "# Building a dataframe with dictionary\n",
    "items_in_dataframe = []\n",
    "items_in_dataframe.append({\n",
    "    \"Fruit\": \"Apple\",\n",
    "    \"Price\": 1.00\n",
    "})\n",
    "print(items_in_dataframe)\n",
    "sample_frame = pd.DataFrame.from_records(items_in_dataframe)\n",
    "sample_frame"
   ]
  },
  {
   "cell_type": "code",
   "execution_count": null,
   "id": "43beab5a",
   "metadata": {},
   "outputs": [],
   "source": [
    "sample_dict_for_frame = {\n",
    "    \"Fruits\": [\"Apple\", \"Banana\"],\n",
    "    \"Prices\": [1.00, 2.00]\n",
    "}\n",
    "another_sample_frame = pd.DataFrame.from_dict(sample_dict_for_frame)\n",
    "another_sample_frame"
   ]
  },
  {
   "cell_type": "markdown",
   "id": "d63c145f",
   "metadata": {},
   "source": [
    "# Load Data"
   ]
  },
  {
   "cell_type": "code",
   "execution_count": null,
   "id": "79bc38fb",
   "metadata": {},
   "outputs": [],
   "source": [
    "practice_data = pd.read_excel(\"Fruit_Dataset.xlsx\")\n",
    "practice_data"
   ]
  },
  {
   "cell_type": "code",
   "execution_count": null,
   "id": "50f4193e",
   "metadata": {},
   "outputs": [],
   "source": [
    "count_dict = {}\n",
    "unique_fruits = set()\n",
    "for _,v in practice_data.iterrows():\n",
    "    #using a set \n",
    "    unique_fruits.add(v['Produce'])\n",
    "    \n",
    "    current_produce = v['Produce']\n",
    "    if current_produce not in count_dict:\n",
    "        count_dict[current_produce] = 1\n",
    "    else:\n",
    "        count_dict[current_produce] += 1\n",
    "print(unique_fruits)\n",
    "count_dict"
   ]
  },
  {
   "cell_type": "code",
   "execution_count": null,
   "id": "9e29423d",
   "metadata": {},
   "outputs": [],
   "source": [
    "sorted_by_produce = practice_data.sort_values(\"Produce\", axis=0)\n",
    "sorted_by_produce.head()"
   ]
  },
  {
   "cell_type": "code",
   "execution_count": null,
   "id": "622a8ea5",
   "metadata": {},
   "outputs": [],
   "source": [
    "# Find by INDEX, IE the number on the far left of the data frame\n",
    "sorted_by_produce.loc[2]"
   ]
  },
  {
   "cell_type": "code",
   "execution_count": null,
   "id": "e9157bf3",
   "metadata": {},
   "outputs": [],
   "source": [
    "# Find by the order the dataframe is in. \n",
    "sorted_by_produce.iloc[2]"
   ]
  },
  {
   "cell_type": "code",
   "execution_count": null,
   "id": "84c7cba2",
   "metadata": {},
   "outputs": [],
   "source": [
    "#create a new columns\n",
    "practice_data['Always_Hi'] = 'Hi'\n",
    "\n",
    "#random variable\n",
    "x = 6\n",
    "print(x)\n",
    "\n",
    "#go through the rows\n",
    "new_column = []\n",
    "\n",
    "#iterate through all rows \n",
    "for k,v in practice_data.iterrows():\n",
    "    #Get the single value of Created_Date in the row\n",
    "    a_single_date = v['Created_Date']\n",
    "    \n",
    "    #convert that date into a string\n",
    "    a_single_string_date = str(v['Created_Date'])\n",
    "    \n",
    "    #add that string to a list \n",
    "    new_column.append(a_single_string_date)\n",
    "\n",
    "practice_data['String_Created_Date'] = new_column\n",
    "practice_data"
   ]
  },
  {
   "cell_type": "code",
   "execution_count": null,
   "id": "fca65e40",
   "metadata": {},
   "outputs": [],
   "source": [
    "#Gives you the first 5 items\n",
    "practice_data.head()"
   ]
  },
  {
   "cell_type": "code",
   "execution_count": null,
   "id": "dfc311b5",
   "metadata": {},
   "outputs": [],
   "source": [
    "#Gives you the last 5 items\n",
    "practice_data.tail()"
   ]
  },
  {
   "cell_type": "code",
   "execution_count": null,
   "id": "b17f5be6",
   "metadata": {},
   "outputs": [],
   "source": [
    "#Gives you column names\n",
    "practice_data.columns"
   ]
  },
  {
   "cell_type": "markdown",
   "id": "8b50bd45",
   "metadata": {},
   "source": [
    "# Useful Analytics"
   ]
  },
  {
   "cell_type": "code",
   "execution_count": null,
   "id": "3c2f0ce8",
   "metadata": {},
   "outputs": [],
   "source": [
    "practice_data.info()"
   ]
  },
  {
   "cell_type": "code",
   "execution_count": null,
   "id": "5e15589c",
   "metadata": {},
   "outputs": [],
   "source": [
    "practice_data.describe()"
   ]
  },
  {
   "cell_type": "code",
   "execution_count": null,
   "id": "fb6a7293",
   "metadata": {},
   "outputs": [],
   "source": [
    "practice_data.hist()"
   ]
  },
  {
   "cell_type": "markdown",
   "id": "b9356c1a",
   "metadata": {},
   "source": [
    "# Manipulating Data Frames"
   ]
  },
  {
   "cell_type": "code",
   "execution_count": null,
   "id": "acf05c7e",
   "metadata": {},
   "outputs": [],
   "source": [
    "#Get a single column \n",
    "practice_data['Produce']"
   ]
  },
  {
   "cell_type": "code",
   "execution_count": null,
   "id": "df06f69a",
   "metadata": {},
   "outputs": [],
   "source": [
    "practice_data['Produce'] == 'Apple'"
   ]
  },
  {
   "cell_type": "code",
   "execution_count": null,
   "id": "7d990454",
   "metadata": {},
   "outputs": [],
   "source": [
    "#Find data matching a condition \n",
    "just_apples = practice_data.loc[practice_data['Produce'] == 'Apple']\n",
    "just_apples"
   ]
  },
  {
   "cell_type": "code",
   "execution_count": null,
   "id": "4c36e45f",
   "metadata": {},
   "outputs": [],
   "source": [
    "greater_than_50 = practice_data.loc[practice_data['Total Cost'] > 50]\n",
    "greater_than_50"
   ]
  },
  {
   "cell_type": "code",
   "execution_count": null,
   "id": "354a511d",
   "metadata": {},
   "outputs": [],
   "source": [
    "after_jan_18 = practice_data.loc[practice_data['Created_Date'] > '2023-01-18 00:00:00']\n",
    "after_jan_18"
   ]
  },
  {
   "cell_type": "code",
   "execution_count": null,
   "id": "155f480c",
   "metadata": {},
   "outputs": [],
   "source": [
    "#max date \n",
    "all_dates = list(practice_data['Created_Date'])\n",
    "max(all_dates)"
   ]
  },
  {
   "cell_type": "markdown",
   "id": "58245610",
   "metadata": {},
   "source": [
    "# Fun with Dates"
   ]
  },
  {
   "cell_type": "code",
   "execution_count": null,
   "id": "d8e8ac63",
   "metadata": {
    "scrolled": true
   },
   "outputs": [],
   "source": [
    "#convert a single string that represents a date back to a timestamp\n",
    "first_row_date_string = practice_data.loc[0]['String_Created_Date']\n",
    "back_to_a_date = datetime.strptime(first_row_date_string, \"%Y-%m-%d %H:%M:%S\")\n",
    "any_random_date = datetime.strptime(\"2021-01-02 00:00:00\", \"%Y-%m-%d %H:%M:%S\")\n",
    "after_converted = practice_data.loc[practice_data['Created_Date'] > back_to_a_date]\n",
    "after_converted"
   ]
  },
  {
   "cell_type": "code",
   "execution_count": null,
   "id": "9184c6bb",
   "metadata": {},
   "outputs": [],
   "source": [
    "#convert a whole column back to a date \n",
    "new_date_column = pd.to_datetime(practice_data['String_Created_Date'],format=\"%Y-%m-%d %H:%M:%S\")\n",
    "practice_data['Reconverted_Date_Timestamp'] = new_date_column\n",
    "practice_data"
   ]
  },
  {
   "cell_type": "code",
   "execution_count": null,
   "id": "7ab6e51c",
   "metadata": {},
   "outputs": [],
   "source": [
    "#show its a date \n",
    "practice_data.info()"
   ]
  },
  {
   "cell_type": "code",
   "execution_count": null,
   "id": "54c6efbe",
   "metadata": {},
   "outputs": [],
   "source": [
    "#Get the date in a different format \n",
    "#make a dictionary\n",
    "all_months_set = set()\n",
    "all_months_string = set()\n",
    "all_months_dict = {}\n",
    "\n",
    "for date in list(practice_data['Created_Date']):\n",
    "    #Remove all but the month and year from the string\n",
    "    month_year_string = datetime.strftime(date, \"%Y-%m\")\n",
    "    all_months_string.add(month_year_string)\n",
    "    \n",
    "    #read back into a string\n",
    "    month_year_datetime = datetime.strptime(month_year_string, \"%Y-%m\")\n",
    "    \n",
    "    #add to a set\n",
    "    all_months_set.add(month_year_datetime)\n",
    "    \n",
    "    #add to a dict\n",
    "    all_months_dict.update({month_year_datetime:\"Placeholder\"})\n",
    "\n",
    "#print set\n",
    "all_months_set"
   ]
  },
  {
   "cell_type": "code",
   "execution_count": null,
   "id": "bb8e8bae",
   "metadata": {},
   "outputs": [],
   "source": [
    "#print dict\n",
    "all_months_dict"
   ]
  },
  {
   "cell_type": "code",
   "execution_count": null,
   "id": "df07006d",
   "metadata": {},
   "outputs": [],
   "source": [
    "#order the months\n",
    "ordered_months = list(all_months_set)\n",
    "ordered_months.sort()\n",
    "ordered_months"
   ]
  },
  {
   "cell_type": "code",
   "execution_count": null,
   "id": "c9a85f08",
   "metadata": {},
   "outputs": [],
   "source": [
    "#Get a single months data\n",
    "greater_than = ordered_months[0]\n",
    "less_than = ordered_months[1]\n",
    "just_this_month = practice_data.loc[practice_data['Created_Date'] > greater_than]\n",
    "just_this_month = practice_data.loc[practice_data['Created_Date'] < less_than]\n",
    "just_this_month"
   ]
  }
 ],
 "metadata": {
  "kernelspec": {
   "display_name": "Python 3 (ipykernel)",
   "language": "python",
   "name": "python3"
  },
  "language_info": {
   "codemirror_mode": {
    "name": "ipython",
    "version": 3
   },
   "file_extension": ".py",
   "mimetype": "text/x-python",
   "name": "python",
   "nbconvert_exporter": "python",
   "pygments_lexer": "ipython3",
   "version": "3.11.1"
  }
 },
 "nbformat": 4,
 "nbformat_minor": 5
}
